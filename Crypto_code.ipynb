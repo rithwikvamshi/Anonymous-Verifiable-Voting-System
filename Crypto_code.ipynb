{
  "cells": [
    {
      "cell_type": "code",
      "execution_count": 3,
      "metadata": {
        "colab": {
          "base_uri": "https://localhost:8080/"
        },
        "id": "TzYBeN1IOJhT",
        "outputId": "64454ba2-f258-4bee-ffa4-5ba3048c64c9"
      },
      "outputs": [
        {
          "output_type": "stream",
          "name": "stdout",
          "text": [
            "Collecting pycryptodome\n",
            "  Downloading pycryptodome-3.20.0-cp35-abi3-manylinux_2_17_x86_64.manylinux2014_x86_64.whl (2.1 MB)\n",
            "\u001b[2K     \u001b[90m━━━━━━━━━━━━━━━━━━━━━━━━━━━━━━━━━━━━━━━━\u001b[0m \u001b[32m2.1/2.1 MB\u001b[0m \u001b[31m8.0 MB/s\u001b[0m eta \u001b[36m0:00:00\u001b[0m\n",
            "\u001b[?25hInstalling collected packages: pycryptodome\n",
            "Successfully installed pycryptodome-3.20.0\n"
          ]
        }
      ],
      "source": [
        "!pip install pycryptodome"
      ]
    },
    {
      "cell_type": "code",
      "execution_count": 4,
      "metadata": {
        "id": "EJiApHmpOM0l"
      },
      "outputs": [],
      "source": [
        "from Crypto.Util.number import getPrime, inverse, bytes_to_long, getRandomRange\n",
        "from Crypto.Random import get_random_bytes\n",
        "import random\n",
        "from random import randrange, shuffle"
      ]
    },
    {
      "cell_type": "code",
      "execution_count": 5,
      "metadata": {
        "id": "fVNWQN7NOU1n"
      },
      "outputs": [],
      "source": [
        "def secure_random_number(p):\n",
        "    while True:\n",
        "        random_bytes = get_random_bytes((p.bit_length() + 7) // 8)\n",
        "        random_number = bytes_to_long(random_bytes) % (p - 1) + 1\n",
        "        return random_number"
      ]
    },
    {
      "cell_type": "code",
      "execution_count": 6,
      "metadata": {
        "id": "CNye7wroOV6v"
      },
      "outputs": [],
      "source": [
        "# ElGamal key generation, encryption, and decryption functions"
      ]
    },
    {
      "cell_type": "code",
      "execution_count": 7,
      "metadata": {
        "id": "i2yrSrdfOYW0"
      },
      "outputs": [],
      "source": [
        "def generate_keys(bit_length=256):\n",
        "    p = getPrime(bit_length)\n",
        "    g = 2\n",
        "    x = getRandomRange(2, p - 1)\n",
        "    h = pow(g, x, p)\n",
        "    return (p, g, h), x"
      ]
    },
    {
      "cell_type": "code",
      "execution_count": 8,
      "metadata": {
        "id": "Ht1U_8xBOYbR"
      },
      "outputs": [],
      "source": [
        "def encrypt_vote(public_key, vote_choice):\n",
        "    p, g, h = public_key\n",
        "    k = getRandomRange(2, p - 1)\n",
        "    c1 = pow(g, k, p)\n",
        "    c2 = (vote_choice * pow(h, k, p)) % p\n",
        "    return c1, c2"
      ]
    },
    {
      "cell_type": "code",
      "execution_count": 9,
      "metadata": {
        "id": "hLRgLoFVOYd4"
      },
      "outputs": [],
      "source": [
        "def decrypt_vote(private_key, ciphertext, p):\n",
        "    c1, c2 = ciphertext\n",
        "    s = pow(c1, private_key, p)\n",
        "    m = (c2 * inverse(s, p)) % p\n",
        "    return m"
      ]
    },
    {
      "cell_type": "code",
      "execution_count": 10,
      "metadata": {
        "id": "sHP1Z__yOYgo"
      },
      "outputs": [],
      "source": [
        "# Mixing and Re-Encryption functions implementing Neff's scheme"
      ]
    },
    {
      "cell_type": "code",
      "execution_count": 11,
      "metadata": {
        "id": "4UY_XcAcOYjH"
      },
      "outputs": [],
      "source": [
        "def mix_and_reencrypt_votes(public_key, encrypted_votes):\n",
        "    p, g, h = public_key\n",
        "    shuffled_votes = encrypted_votes.copy()\n",
        "    shuffle(shuffled_votes)\n",
        "\n",
        "    # Re-encrypting votes using a new random exponent k' for each vote\n",
        "    re_encrypted_votes = []\n",
        "    for c1, c2 in shuffled_votes:\n",
        "        k_prime = getRandomRange(2, p - 1)\n",
        "        c1_prime = (c1 * pow(g, k_prime, p)) % p\n",
        "        c2_prime = (c2 * pow(h, k_prime, p)) % p\n",
        "        re_encrypted_votes.append((c1_prime, c2_prime))\n",
        "\n",
        "    return re_encrypted_votes"
      ]
    },
    {
      "cell_type": "code",
      "execution_count": 12,
      "metadata": {
        "id": "dRrgQZKXOYlv"
      },
      "outputs": [],
      "source": [
        "# Neff's scheme functions for zero-knowledge proof of shuffle"
      ]
    },
    {
      "cell_type": "code",
      "execution_count": 13,
      "metadata": {
        "id": "X25w9ndHOYof"
      },
      "outputs": [],
      "source": [
        "def generate_permutation(k):\n",
        "    \"\"\"Generate a random permutation of k elements.\"\"\"\n",
        "    permutation = list(range(1, k + 1))\n",
        "    random.shuffle(permutation)\n",
        "    return permutation"
      ]
    },
    {
      "cell_type": "code",
      "execution_count": 14,
      "metadata": {
        "id": "tYXEoV5TOYrA"
      },
      "outputs": [],
      "source": [
        "def generate_sequences(k, p, g):\n",
        "    \"\"\"Generate sequences of k elements from Zq-{0}, and a random exponent d.\"\"\"\n",
        "    e1 = [secure_random_number(p) for _ in range(k)]\n",
        "    e2 = [secure_random_number(p) for _ in range(k)]\n",
        "\n",
        "    E1 = [pow(g, e, p) for e in e1]\n",
        "    E2 = [pow(g, e, p) for e in e2]\n",
        "\n",
        "    # Verifier generates f1 and f2 sequences\n",
        "    f1 = [secure_random_number(p) for _ in range(k)]\n",
        "    f2 = [secure_random_number(p) for _ in range(k)]\n",
        "\n",
        "    return e1, e2, E1, E2, f1, f2"
      ]
    },
    {
      "cell_type": "code",
      "execution_count": 15,
      "metadata": {
        "id": "faT7rQLDOYte"
      },
      "outputs": [],
      "source": [
        "def compute_F_sequences(k, p, g, d, e1, e2, f1, f2, permutation):\n",
        "    \"\"\"Compute the sequences F1 and F2 using the permutation and values d, e1, e2, f1, f2.\"\"\"\n",
        "    F1 = []\n",
        "    F2 = []\n",
        "\n",
        "    # Computing the permutation inverse\n",
        "    pi_inv = [0] * k\n",
        "    for i in range(k):\n",
        "        pi_inv[permutation[i] - 1] = i\n",
        "\n",
        "    # Computing F1i and F2i\n",
        "    for i in range(k):\n",
        "        F1.append(pow(g, d * f1[pi_inv[i]] * e1[pi_inv[i]], p))\n",
        "        F2.append(pow(g, d * f2[pi_inv[i]] * e2[pi_inv[i]], p))\n",
        "\n",
        "    return F1, F2, pi_inv"
      ]
    },
    {
      "cell_type": "code",
      "execution_count": 16,
      "metadata": {
        "id": "AHLNrmeXOYwG"
      },
      "outputs": [],
      "source": [
        "def compute_U_V_D_sequences(k, p, g, d, e1, e2, f1, f2, gamma, pi_inv):\n",
        "    \"\"\"Compute the U, V sequences and D value for the k-shuffle protocol.\"\"\"\n",
        "    U = []\n",
        "    V = []\n",
        "\n",
        "    # Computing Ui and Vi values\n",
        "    for i in range(k):\n",
        "        # Calculating indices from the permutation inverse\n",
        "        pi_i = pi_inv[i]\n",
        "\n",
        "        U.append(pow(g, (f1[pi_i] * e1[pi_i] + gamma * f2[pi_i] * e2[pi_i]) % (p - 1), p))\n",
        "        V.append(pow(g, (d * f1[pi_i] + gamma * d * f2[pi_i]) % (p - 1), p))\n",
        "\n",
        "    D = pow(g, d, p)\n",
        "\n",
        "    return U, V, D"
      ]
    },
    {
      "cell_type": "code",
      "execution_count": 17,
      "metadata": {
        "id": "DWlZ-CE7OYy2"
      },
      "outputs": [],
      "source": [
        "def compute_A_B_sequences(k, p, g, U, V, d, pi_inv):\n",
        "    \"\"\"Generate the a_i, b_i sequences and compute A_i = g^a_i, B_i = g^b_i.\"\"\"\n",
        "    # Generating random a_i and b_i sequences\n",
        "    a = [secure_random_number(p) for _ in range(k)]\n",
        "    b = [secure_random_number(p) for _ in range(k-1)]\n",
        "\n",
        "    # Calculating b_k as specified in the protocol\n",
        "    sum_a_ui = sum(a[i] * pi_inv[i] for i in range(k-1))  # Assuming pi_inv is u\n",
        "    sum_b_vi = sum(b[i] * pi_inv[i] for i in range(k-1))  # Assuming pi_inv is v\n",
        "    b_k = inverse(V[-1], p) * (sum_b_vi - d * sum_a_ui) % (p - 1)\n",
        "    b.append(b_k)  # Append b_k to the b sequence\n",
        "\n",
        "    # Computing A_i = g^a_i and B_i = g^b_i\n",
        "    A = [pow(g, a_i, p) for a_i in a]\n",
        "    B = [pow(g, b_i, p) for b_i in b]\n",
        "\n",
        "    return A, B, a, b"
      ]
    },
    {
      "cell_type": "code",
      "execution_count": 18,
      "metadata": {
        "id": "-7Z03JCuOY3n"
      },
      "outputs": [],
      "source": [
        "def generate_lambda(p):\n",
        "    \"\"\"Generate a new random challenge lambda from Zq.\"\"\"\n",
        "    lambda_ = secure_random_number(p)\n",
        "    return lambda_\n",
        "\n",
        "def generate_random_challenge(p):\n",
        "    \"\"\"Generate a random challenge gamma from Zq - {0}.\"\"\"\n",
        "    gamma = secure_random_number(p)\n",
        "    return gamma\n",
        "\n",
        "def compute_exponents_and_quantities(k, p, g, X, Y, a, b, u, v, lambda_):\n",
        "    \"\"\"Compute the exponents s_i, r_i and the quantities P, Q.\"\"\"\n",
        "    s = [(a[i] + lambda_ * u[i]) % (p - 1) for i in range(k)]\n",
        "    r = [(b[i] + lambda_ * v[i]) % (p - 1) for i in range(k)]\n",
        "\n",
        "    # Compute quantities P and Q\n",
        "    P = 1\n",
        "    Q = 1\n",
        "    for i in range(k):\n",
        "        P = (P * pow(X[i], r[i], p)) % p\n",
        "        Q = (Q * pow(Y[i], s[i], p)) % p\n",
        "\n",
        "    return s, r, P, Q"
      ]
    },
    {
      "cell_type": "code",
      "execution_count": 19,
      "metadata": {
        "id": "tnaD6yyqzddY"
      },
      "outputs": [],
      "source": [
        "# step 9\n",
        "def generate_commitments(U, V, D, g, p):\n",
        "    \"\"\"Generate cryptographic commitments for U, V, and D values.\"\"\"\n",
        "    commitments_U = [pow(g, u, p) for u in U]\n",
        "    commitments_V = [pow(g, v, p) for v in V]\n",
        "    commitment_D = pow(g, D, p)\n",
        "    return commitments_U, commitments_V, commitment_D\n",
        "\n",
        "def generate_silmpp_responses(U, V, D, lambda_, p):\n",
        "    \"\"\"Generate responses for SILMPP based on a challenge lambda.\"\"\"\n",
        "    responses_U = [(u + lambda_) % p for u in U]\n",
        "    responses_V = [(v + lambda_) % p for v in V]\n",
        "    response_D = (D + lambda_) % p\n",
        "    return responses_U, responses_V, response_D\n",
        "\n",
        "def verify_silmpp(g, p, commitments, responses, challenge):\n",
        "    \"\"\"Verify the SILMPP by recalculating and comparing the commitment from responses.\"\"\"\n",
        "    verified = True\n",
        "    for i, (commitment, response) in enumerate(zip(commitments, responses)):\n",
        "        computed_commitment = pow(g, response, p) * pow(inverse(g, p), challenge, p) % p\n",
        "        if computed_commitment != commitment:\n",
        "#             print(f\"Verification failed for commitment {i}: expected {commitment}, got {computed_commitment}\")\n",
        "            verified = False\n",
        "#         else:\n",
        "#             print(f\"Verification Sucess for commitment {i}: expected {commitment}, got {computed_commitment}\")\n",
        "\n",
        "    print(\" \")\n",
        "\n",
        "    return verified\n"
      ]
    },
    {
      "cell_type": "code",
      "execution_count": 20,
      "metadata": {
        "id": "52P_TdRqOl3W"
      },
      "outputs": [],
      "source": [
        "# Additional functions for tallying votes and verifying the mixing"
      ]
    },
    {
      "cell_type": "code",
      "execution_count": 21,
      "metadata": {
        "id": "y3t4abG9Ol53"
      },
      "outputs": [],
      "source": [
        "# Talling decrypted votes\n",
        "def talling(decrypted_votes):\n",
        "    tally = {}\n",
        "    for vote in decrypted_votes:\n",
        "        if vote in tally:\n",
        "            tally[vote] += 1\n",
        "        else:\n",
        "            tally[vote] = 1\n",
        "\n",
        "    max_votes = max(tally.values())\n",
        "\n",
        "    winners = [candidate for candidate, votes in tally.items() if votes == max_votes]\n",
        "\n",
        "    if len(winners) == 1:\n",
        "        print(f\"Winner is Candidate {winners[0]} with {max_votes} votes.\")\n",
        "    else:\n",
        "        winners_str = \", \".join(map(str, winners))\n",
        "        print(f\"It's a draw between Candidates {winners_str} with {max_votes} votes each.\")\n"
      ]
    },
    {
      "cell_type": "code",
      "execution_count": 22,
      "metadata": {
        "id": "NpkNfpqJo3fg"
      },
      "outputs": [],
      "source": [
        "# Setup for Neff's ZKP\n",
        "def ZKP(mixed_votes, p, g, h, public_key, private_key, mixnet_number):\n",
        "\n",
        "    permutation = generate_permutation(len(mixed_votes))\n",
        "    e1, e2, E1, E2, f1, f2 = generate_sequences(len(mixed_votes), p, g)\n",
        "    F1, F2, pi_inv = compute_F_sequences(len(mixed_votes), p, g, private_key, e1, e2, f1, f2, permutation)\n",
        "    gamma = generate_random_challenge(p)\n",
        "    U, V, D = compute_U_V_D_sequences(len(mixed_votes), p, g, private_key, e1, e2, f1, f2, gamma, pi_inv)\n",
        "    A, B, a, b = compute_A_B_sequences(len(mixed_votes), p, g, U, V, private_key, pi_inv)\n",
        "\n",
        "    lambda_ = generate_lambda(p)\n",
        "    s, r, P, Q = compute_exponents_and_quantities(len(mixed_votes), p, g, U, V, a, b, e1, f1, lambda_)\n",
        "\n",
        "    # Generate commitments for SILMPP\n",
        "    commitments_U = [pow(g, u, p) for u in U]\n",
        "    commitments_V = [pow(g, v, p) for v in V]\n",
        "    commitment_D = pow(g, D, p)\n",
        "\n",
        "    # Generate responses for SILMPP\n",
        "    responses_U = [(u + lambda_) % (p - 1) for u in U]\n",
        "    responses_V = [(v + lambda_) % (p - 1) for v in V]\n",
        "    response_D = (D + lambda_) % (p - 1)\n",
        "\n",
        "    # Verify SILMPP\n",
        "    if verify_silmpp(g, p, commitments_U + commitments_V + [commitment_D], responses_U + responses_V + [response_D], lambda_):\n",
        "        print(f\"SILMPP verification successful after {mixnet_number}st shuffle\")\n",
        "        print(f\"Votes have not been altered or manipulated in {mixnet_number}st mixnet server\")\n",
        "        return True\n",
        "    else:\n",
        "        print(f\"SILMPP verification failed after {mixnet_number}st shuffle\")\n",
        "        print(f\"Votes have been altered or manipulated in {mixnet_number}st mixnet server\")\n",
        "        return False"
      ]
    },
    {
      "cell_type": "code",
      "execution_count": 23,
      "metadata": {
        "id": "deBa-yHZo3fg"
      },
      "outputs": [],
      "source": [
        "def ZKP_check(Mixers_votes,original_votes, p, g, h, public_key, private_key, mixnet_number):\n",
        "\n",
        "    permutation = generate_permutation(len(original_votes))\n",
        "    permutation_altered = generate_permutation(len(Mixers_votes))\n",
        "\n",
        "    e1, e2, E1, E2, f1, f2 = generate_sequences(len(original_votes), p, g)\n",
        "    F1, F2, pi_inv = compute_F_sequences(len(original_votes), p, g, private_key, e1, e2, f1, f2, permutation)\n",
        "\n",
        "    e1_altered, e2_altered, E1_altered, E2_altered, f1_altered, f2_altered = generate_sequences(len(Mixers_votes), p, g)\n",
        "    F1_altered, F2_altered, pi_inv_altered = compute_F_sequences(len(Mixers_votes), p, g, private_key, e1_altered, e2_altered, f1_altered, f2_altered, permutation_altered)\n",
        "\n",
        "    gamma = generate_random_challenge(p)\n",
        "    lambda_ = generate_lambda(p)\n",
        "\n",
        "    U, V, D = compute_U_V_D_sequences(len(original_votes), p, g, private_key, e1, e2, f1, f2, gamma, pi_inv)\n",
        "    A, B, a, b = compute_A_B_sequences(len(original_votes), p, g, U, V, private_key, pi_inv)\n",
        "    s, r, P, Q = compute_exponents_and_quantities(len(original_votes), p, g, U, V, a, b, e1, f1, lambda_)\n",
        "\n",
        "    U_altered, V_altered, D_altered = compute_U_V_D_sequences(len(Mixers_votes), p, g, private_key, e1_altered, e2_altered, f1_altered, f2_altered, gamma, pi_inv_altered)\n",
        "    A_altered, B_altered, a_altered, b_altered = compute_A_B_sequences(len(Mixers_votes), p, g, U_altered, V_altered, private_key, pi_inv_altered)\n",
        "    s_altered, r_altered, P_altered, Q_altered = compute_exponents_and_quantities(len(Mixers_votes), p, g, U_altered, V_altered, a_altered, b_altered, e1_altered, f1_altered, lambda_)\n",
        "\n",
        "    # Generate commitments for SILMPP\n",
        "    commitments_U = [pow(g, u, p) for u in U]\n",
        "    commitments_V = [pow(g, v, p) for v in V]\n",
        "    commitment_D = pow(g, D, p)\n",
        "\n",
        "    # Generate responses for SILMPP\n",
        "    responses_U_altered = [(u_altered + lambda_) % (p - 1) for u_altered in U_altered]\n",
        "    responses_V_altered = [(v_altered + lambda_) % (p - 1) for v_altered in V_altered]\n",
        "    response_D_altered = (D_altered + lambda_) % (p - 1)\n",
        "\n",
        "    # Verify SILMPP\n",
        "    if verify_silmpp(g, p, commitments_U + commitments_V + [commitment_D], responses_U_altered + responses_V_altered + [response_D_altered], lambda_):\n",
        "        print(f\"SILMPP verification successful after {mixnet_number}st shuffle\")\n",
        "        print(f\"Votes have not been altered or manipulated in {mixnet_number}st mixnet server\")\n",
        "        return True\n",
        "    else:\n",
        "        print(f\"SILMPP verification failed after {mixnet_number}st shuffle\")\n",
        "        print(f\"Votes have been altered or manipulated in {mixnet_number}st mixnet server\")\n",
        "        return False"
      ]
    },
    {
      "cell_type": "code",
      "execution_count": 24,
      "metadata": {
        "id": "yxh1QwquOl_G"
      },
      "outputs": [],
      "source": [
        "def main():\n",
        "    # Generate public and private keys\n",
        "    public_key, private_key = generate_keys(256)\n",
        "    print(f\"Public Key: {public_key}\")\n",
        "    p, g, h = public_key\n",
        "\n",
        "    # Get number of voters and their votes\n",
        "    num_votes = int(input(\"Enter the number of voters: \"))\n",
        "    votes = []\n",
        "    for i in range(num_votes):\n",
        "        vote = int(input(f\"Enter vote for voter {i+1} (use integer values for candidates): \"))\n",
        "        votes.append(vote)\n",
        "\n",
        "    encrypted_original_votes = [encrypt_vote(public_key, vote) for vote in votes]\n",
        "    print(\"\\nEncrypted Original Votes:\", encrypted_original_votes)\n",
        "    # Perform mixing and re-encryption\n",
        "    for i in range(3):  # Simulating 3 mixnet servers.\n",
        "        mixed_original_votes = mix_and_reencrypt_votes(public_key, encrypted_original_votes)\n",
        "\n",
        "        #alternation Simulation\n",
        "        # mixed_Mixers_votes = [vote[0] + 1 for vote in encrypted_original_votes]\n",
        "        mixed_Mixers_votes = encrypted_original_votes # commnet this line if altering the votes\n",
        "\n",
        "        if(mixed_Mixers_votes == encrypted_original_votes) :\n",
        "            ZKP_Sucess = ZKP(mixed_original_votes, p, g, h, public_key, private_key, i+1)#checking if the votes are manipulated after each mixing\n",
        "            if ZKP_Sucess==False :\n",
        "                break;\n",
        "\n",
        "        else :\n",
        "            ZKP_Sucess = ZKP_check(mixed_Mixers_votes, mixed_original_votes, p, g, h, public_key, private_key, i+1)#checking if the votes are manipulated after each mixing\n",
        "            if ZKP_Sucess==False :\n",
        "                break;\n",
        "\n",
        "    if ZKP_Sucess==True :\n",
        "        print(\"\")\n",
        "        print(\"Mixed and Re-Encrypted Votes:\", mixed_Mixers_votes)\n",
        "        print(\"\")\n",
        "        decrypted_votes = [decrypt_vote(private_key, vote, p) for vote in mixed_Mixers_votes]\n",
        "        talling(decrypted_votes)\n"
      ]
    },
    {
      "cell_type": "code",
      "execution_count": 25,
      "metadata": {
        "colab": {
          "base_uri": "https://localhost:8080/"
        },
        "id": "dIR7Uyi4OpzW",
        "outputId": "562526c1-1a43-4a52-e56d-337825358154"
      },
      "outputs": [
        {
          "output_type": "stream",
          "name": "stdout",
          "text": [
            "Public Key: (64267670887845697656919676718984422488898732919124113859985939653948802332733, 2, 28155697036404075047632583612341301919862932197109084997173065146510023802448)\n",
            "Enter the number of voters: 5\n",
            "Enter vote for voter 1 (use integer values for candidates): 1\n",
            "Enter vote for voter 2 (use integer values for candidates): 1\n",
            "Enter vote for voter 3 (use integer values for candidates): 1\n",
            "Enter vote for voter 4 (use integer values for candidates): 2\n",
            "Enter vote for voter 5 (use integer values for candidates): 2\n",
            "\n",
            "Encrypted Original Votes: [(38186300029851686923614551338041736832472659852439109054360601468756690620768, 34425675647368341527166700324000771978021375260887071664986877682811353714088), (56809624031649764597707815325971818460050408980310327117009971686339287150267, 62917477458400634524389230463934021949662832916393089051063979291377473930019), (49622133444930984259654922005172050228536959436623517013867988264081459456616, 48416528414098440239351636782600090516561037561723345616882837513041323201100), (28190224549075777237665694932285680806411135589948962123543617407901461450978, 46571043546658295876825343931935198933677431957585515985525695717541266956637), (14279735453379249228667744502670134873360382639574289322161872861547313596779, 31846357674730217420848199255826411281608436647816713539868087305844125388056)]\n",
            " \n",
            "SILMPP verification successful after 1st shuffle\n",
            "Votes have not been altered or manipulated in 1st mixnet server\n",
            " \n",
            "SILMPP verification successful after 2st shuffle\n",
            "Votes have not been altered or manipulated in 2st mixnet server\n",
            " \n",
            "SILMPP verification successful after 3st shuffle\n",
            "Votes have not been altered or manipulated in 3st mixnet server\n",
            "\n",
            "Mixed and Re-Encrypted Votes: [(38186300029851686923614551338041736832472659852439109054360601468756690620768, 34425675647368341527166700324000771978021375260887071664986877682811353714088), (56809624031649764597707815325971818460050408980310327117009971686339287150267, 62917477458400634524389230463934021949662832916393089051063979291377473930019), (49622133444930984259654922005172050228536959436623517013867988264081459456616, 48416528414098440239351636782600090516561037561723345616882837513041323201100), (28190224549075777237665694932285680806411135589948962123543617407901461450978, 46571043546658295876825343931935198933677431957585515985525695717541266956637), (14279735453379249228667744502670134873360382639574289322161872861547313596779, 31846357674730217420848199255826411281608436647816713539868087305844125388056)]\n",
            "\n",
            "Winner is Candidate 1 with 3 votes.\n"
          ]
        }
      ],
      "source": [
        "if __name__ == \"__main__\" :\n",
        "    main()"
      ]
    }
  ],
  "metadata": {
    "colab": {
      "provenance": []
    },
    "kernelspec": {
      "display_name": "Python 3 (ipykernel)",
      "language": "python",
      "name": "python3"
    },
    "language_info": {
      "codemirror_mode": {
        "name": "ipython",
        "version": 3
      },
      "file_extension": ".py",
      "mimetype": "text/x-python",
      "name": "python",
      "nbconvert_exporter": "python",
      "pygments_lexer": "ipython3",
      "version": "3.11.5"
    }
  },
  "nbformat": 4,
  "nbformat_minor": 0
}